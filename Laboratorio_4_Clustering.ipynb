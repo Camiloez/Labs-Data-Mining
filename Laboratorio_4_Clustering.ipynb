{
  "nbformat": 4,
  "nbformat_minor": 0,
  "metadata": {
    "colab": {
      "name": "Laboratorio 4: Clustering.ipynb",
      "version": "0.3.2",
      "provenance": [],
      "collapsed_sections": [],
      "toc_visible": true,
      "include_colab_link": true
    }
  },
  "cells": [
    {
      "cell_type": "markdown",
      "metadata": {
        "id": "view-in-github",
        "colab_type": "text"
      },
      "source": [
        "<a href=\"https://colab.research.google.com/github/Camiloez/Labs-Data-Mining/blob/master/Laboratorio_4_Clustering.ipynb\" target=\"_parent\"><img src=\"https://colab.research.google.com/assets/colab-badge.svg\" alt=\"Open In Colab\"/></a>"
      ]
    },
    {
      "metadata": {
        "id": "4s3KNcuvYE_x",
        "colab_type": "text"
      },
      "cell_type": "markdown",
      "source": [
        "El formato de entrega será subir a u-cursos un Jupyter notebook laboratorio4.ipynb, que se debe ejecutar sin errores desde la primera celda a la última. Todo el código debe estar en el mismo notebook, el código debe estar comentado y el notebook debe estar escrito en forma de informe técnico, escribiendo una celda markdown antes de cada celda de código. **Recuerde escribir el nombre de todos los integrantes que trabajaron en la elaboración del entregable**.\n",
        "\n",
        "\n",
        "\n"
      ]
    },
    {
      "metadata": {
        "id": "094W_jsCU61o",
        "colab_type": "text"
      },
      "cell_type": "markdown",
      "source": [
        "**Integrantes**:\n",
        "1. NN1\n",
        "2. NN2\n",
        "3. NN3"
      ]
    },
    {
      "metadata": {
        "id": "0gNZZLSLX8l5",
        "colab_type": "text"
      },
      "cell_type": "markdown",
      "source": [
        "# Laboratorio 4: Clustering\n",
        "\n",
        "Objetivos:\n",
        "\n",
        "\n",
        "\n",
        "1.  Entender en qué casos se puede utilizar clustering y cuál es su fin\n",
        "2.  Conocer y aplicar modelos de clustering\n",
        "3.  Conocer y aplicar métricas relacionadas a clustering\n",
        "4. Entender diferencia entre clustering y aprendizaje no supervisado\n",
        "\n",
        "\n"
      ]
    },
    {
      "metadata": {
        "id": "wPXn5Mh7YXZK",
        "colab_type": "code",
        "colab": {}
      },
      "cell_type": "code",
      "source": [
        "import numpy as np\n",
        "import matplotlib.pyplot as plt\n",
        "import pandas as pd\n",
        "from sklearn.preprocessing import StandardScaler\n",
        "from sklearn.decomposition import PCA\n",
        "from sklearn.cluster import KMeans\n",
        "from math import pi\n",
        "from scipy.cluster.hierarchy import dendrogram, linkage"
      ],
      "execution_count": 0,
      "outputs": []
    },
    {
      "metadata": {
        "id": "pKnp4cObTnRL",
        "colab_type": "code",
        "colab": {
          "base_uri": "https://localhost:8080/",
          "height": 224
        },
        "outputId": "b685c850-b068-421d-f5f7-9fa4589b4b07"
      },
      "cell_type": "code",
      "source": [
        "!wget https://raw.githubusercontent.com/Camiloez/Labs-Data-Mining/master/Iris.csv"
      ],
      "execution_count": 50,
      "outputs": [
        {
          "output_type": "stream",
          "text": [
            "--2018-10-30 00:34:40--  https://raw.githubusercontent.com/Camiloez/Labs-Data-Mining/master/Iris.csv\n",
            "Resolving raw.githubusercontent.com (raw.githubusercontent.com)... 151.101.0.133, 151.101.64.133, 151.101.128.133, ...\n",
            "Connecting to raw.githubusercontent.com (raw.githubusercontent.com)|151.101.0.133|:443... connected.\n",
            "HTTP request sent, awaiting response... 200 OK\n",
            "Length: 5107 (5.0K) [text/plain]\n",
            "Saving to: ‘Iris.csv.1’\n",
            "\n",
            "\rIris.csv.1            0%[                    ]       0  --.-KB/s               \rIris.csv.1          100%[===================>]   4.99K  --.-KB/s    in 0s      \n",
            "\n",
            "2018-10-30 00:34:40 (61.3 MB/s) - ‘Iris.csv.1’ saved [5107/5107]\n",
            "\n"
          ],
          "name": "stdout"
        }
      ]
    },
    {
      "metadata": {
        "id": "YpKZWi_aTnXK",
        "colab_type": "code",
        "colab": {
          "base_uri": "https://localhost:8080/",
          "height": 204
        },
        "outputId": "39351eef-4be8-4360-d662-451dfb0e32ac"
      },
      "cell_type": "code",
      "source": [
        "df=pd.read_csv('Iris.csv')\n",
        "df.head(5)"
      ],
      "execution_count": 51,
      "outputs": [
        {
          "output_type": "execute_result",
          "data": {
            "text/html": [
              "<div>\n",
              "<style scoped>\n",
              "    .dataframe tbody tr th:only-of-type {\n",
              "        vertical-align: middle;\n",
              "    }\n",
              "\n",
              "    .dataframe tbody tr th {\n",
              "        vertical-align: top;\n",
              "    }\n",
              "\n",
              "    .dataframe thead th {\n",
              "        text-align: right;\n",
              "    }\n",
              "</style>\n",
              "<table border=\"1\" class=\"dataframe\">\n",
              "  <thead>\n",
              "    <tr style=\"text-align: right;\">\n",
              "      <th></th>\n",
              "      <th>Id</th>\n",
              "      <th>SepalLengthCm</th>\n",
              "      <th>SepalWidthCm</th>\n",
              "      <th>PetalLengthCm</th>\n",
              "      <th>PetalWidthCm</th>\n",
              "      <th>Species</th>\n",
              "    </tr>\n",
              "  </thead>\n",
              "  <tbody>\n",
              "    <tr>\n",
              "      <th>0</th>\n",
              "      <td>1</td>\n",
              "      <td>5.1</td>\n",
              "      <td>3.5</td>\n",
              "      <td>1.4</td>\n",
              "      <td>0.2</td>\n",
              "      <td>Iris-setosa</td>\n",
              "    </tr>\n",
              "    <tr>\n",
              "      <th>1</th>\n",
              "      <td>2</td>\n",
              "      <td>4.9</td>\n",
              "      <td>3.0</td>\n",
              "      <td>1.4</td>\n",
              "      <td>0.2</td>\n",
              "      <td>Iris-setosa</td>\n",
              "    </tr>\n",
              "    <tr>\n",
              "      <th>2</th>\n",
              "      <td>3</td>\n",
              "      <td>4.7</td>\n",
              "      <td>3.2</td>\n",
              "      <td>1.3</td>\n",
              "      <td>0.2</td>\n",
              "      <td>Iris-setosa</td>\n",
              "    </tr>\n",
              "    <tr>\n",
              "      <th>3</th>\n",
              "      <td>4</td>\n",
              "      <td>4.6</td>\n",
              "      <td>3.1</td>\n",
              "      <td>1.5</td>\n",
              "      <td>0.2</td>\n",
              "      <td>Iris-setosa</td>\n",
              "    </tr>\n",
              "    <tr>\n",
              "      <th>4</th>\n",
              "      <td>5</td>\n",
              "      <td>5.0</td>\n",
              "      <td>3.6</td>\n",
              "      <td>1.4</td>\n",
              "      <td>0.2</td>\n",
              "      <td>Iris-setosa</td>\n",
              "    </tr>\n",
              "  </tbody>\n",
              "</table>\n",
              "</div>"
            ],
            "text/plain": [
              "   Id  SepalLengthCm  SepalWidthCm  PetalLengthCm  PetalWidthCm      Species\n",
              "0   1            5.1           3.5            1.4           0.2  Iris-setosa\n",
              "1   2            4.9           3.0            1.4           0.2  Iris-setosa\n",
              "2   3            4.7           3.2            1.3           0.2  Iris-setosa\n",
              "3   4            4.6           3.1            1.5           0.2  Iris-setosa\n",
              "4   5            5.0           3.6            1.4           0.2  Iris-setosa"
            ]
          },
          "metadata": {
            "tags": []
          },
          "execution_count": 51
        }
      ]
    },
    {
      "metadata": {
        "id": "_fFycbNfZcDL",
        "colab_type": "code",
        "colab": {}
      },
      "cell_type": "code",
      "source": [
        "x = df.iloc[:, [1, 2, 3, 4]].values\n",
        "y = df.iloc[:,[5]].values"
      ],
      "execution_count": 0,
      "outputs": []
    },
    {
      "metadata": {
        "id": "drQxvORZj61P",
        "colab_type": "text"
      },
      "cell_type": "markdown",
      "source": [
        "## PCA para visualización"
      ]
    },
    {
      "metadata": {
        "id": "6a6FHV2_Tnbc",
        "colab_type": "code",
        "colab": {}
      },
      "cell_type": "code",
      "source": [
        "pca = PCA(n_components=2)\n",
        "principalComponents = pca.fit_transform(x)\n",
        "\n",
        "pcadf = pd.DataFrame(data = principalComponents, columns = ['PCA 1', 'PCA 2'])\n",
        "pcadf['target']=y"
      ],
      "execution_count": 0,
      "outputs": []
    },
    {
      "metadata": {
        "id": "7ZNWv-CaaD42",
        "colab_type": "code",
        "colab": {
          "base_uri": "https://localhost:8080/",
          "height": 204
        },
        "outputId": "1c8779f3-5ce2-425d-f14c-1049969b838f"
      },
      "cell_type": "code",
      "source": [
        "pcadf.head(5)"
      ],
      "execution_count": 54,
      "outputs": [
        {
          "output_type": "execute_result",
          "data": {
            "text/html": [
              "<div>\n",
              "<style scoped>\n",
              "    .dataframe tbody tr th:only-of-type {\n",
              "        vertical-align: middle;\n",
              "    }\n",
              "\n",
              "    .dataframe tbody tr th {\n",
              "        vertical-align: top;\n",
              "    }\n",
              "\n",
              "    .dataframe thead th {\n",
              "        text-align: right;\n",
              "    }\n",
              "</style>\n",
              "<table border=\"1\" class=\"dataframe\">\n",
              "  <thead>\n",
              "    <tr style=\"text-align: right;\">\n",
              "      <th></th>\n",
              "      <th>PCA 1</th>\n",
              "      <th>PCA 2</th>\n",
              "      <th>target</th>\n",
              "    </tr>\n",
              "  </thead>\n",
              "  <tbody>\n",
              "    <tr>\n",
              "      <th>0</th>\n",
              "      <td>-2.684207</td>\n",
              "      <td>0.326607</td>\n",
              "      <td>Iris-setosa</td>\n",
              "    </tr>\n",
              "    <tr>\n",
              "      <th>1</th>\n",
              "      <td>-2.715391</td>\n",
              "      <td>-0.169557</td>\n",
              "      <td>Iris-setosa</td>\n",
              "    </tr>\n",
              "    <tr>\n",
              "      <th>2</th>\n",
              "      <td>-2.889820</td>\n",
              "      <td>-0.137346</td>\n",
              "      <td>Iris-setosa</td>\n",
              "    </tr>\n",
              "    <tr>\n",
              "      <th>3</th>\n",
              "      <td>-2.746437</td>\n",
              "      <td>-0.311124</td>\n",
              "      <td>Iris-setosa</td>\n",
              "    </tr>\n",
              "    <tr>\n",
              "      <th>4</th>\n",
              "      <td>-2.728593</td>\n",
              "      <td>0.333925</td>\n",
              "      <td>Iris-setosa</td>\n",
              "    </tr>\n",
              "  </tbody>\n",
              "</table>\n",
              "</div>"
            ],
            "text/plain": [
              "      PCA 1     PCA 2       target\n",
              "0 -2.684207  0.326607  Iris-setosa\n",
              "1 -2.715391 -0.169557  Iris-setosa\n",
              "2 -2.889820 -0.137346  Iris-setosa\n",
              "3 -2.746437 -0.311124  Iris-setosa\n",
              "4 -2.728593  0.333925  Iris-setosa"
            ]
          },
          "metadata": {
            "tags": []
          },
          "execution_count": 54
        }
      ]
    },
    {
      "metadata": {
        "id": "ItzsSAmEdsYf",
        "colab_type": "code",
        "colab": {
          "base_uri": "https://localhost:8080/",
          "height": 34
        },
        "outputId": "e7881a66-2f20-45f4-b4db-c138c22d52dc"
      },
      "cell_type": "code",
      "source": [
        "pcadf.target.unique()"
      ],
      "execution_count": 55,
      "outputs": [
        {
          "output_type": "execute_result",
          "data": {
            "text/plain": [
              "array(['Iris-setosa', 'Iris-versicolor', 'Iris-virginica'], dtype=object)"
            ]
          },
          "metadata": {
            "tags": []
          },
          "execution_count": 55
        }
      ]
    },
    {
      "metadata": {
        "id": "AFUW-W5lzRNZ",
        "colab_type": "code",
        "colab": {}
      },
      "cell_type": "code",
      "source": [
        "def color(x):\n",
        "  if x=='Iris-setosa':\n",
        "    return 'red'\n",
        "  elif x=='Iris-versicolor':\n",
        "    return 'blue'\n",
        "  elif x=='Iris-virginica':\n",
        "    return 'green'"
      ],
      "execution_count": 0,
      "outputs": []
    },
    {
      "metadata": {
        "id": "yX0BCrqDzdYI",
        "colab_type": "code",
        "colab": {
          "base_uri": "https://localhost:8080/",
          "height": 204
        },
        "outputId": "bc2b269f-3a6f-42af-be7f-60282526d6f1"
      },
      "cell_type": "code",
      "source": [
        "pcadf['color']=pcadf.target.apply(color)\n",
        "pcadf.head(5)"
      ],
      "execution_count": 57,
      "outputs": [
        {
          "output_type": "execute_result",
          "data": {
            "text/html": [
              "<div>\n",
              "<style scoped>\n",
              "    .dataframe tbody tr th:only-of-type {\n",
              "        vertical-align: middle;\n",
              "    }\n",
              "\n",
              "    .dataframe tbody tr th {\n",
              "        vertical-align: top;\n",
              "    }\n",
              "\n",
              "    .dataframe thead th {\n",
              "        text-align: right;\n",
              "    }\n",
              "</style>\n",
              "<table border=\"1\" class=\"dataframe\">\n",
              "  <thead>\n",
              "    <tr style=\"text-align: right;\">\n",
              "      <th></th>\n",
              "      <th>PCA 1</th>\n",
              "      <th>PCA 2</th>\n",
              "      <th>target</th>\n",
              "      <th>color</th>\n",
              "    </tr>\n",
              "  </thead>\n",
              "  <tbody>\n",
              "    <tr>\n",
              "      <th>0</th>\n",
              "      <td>-2.684207</td>\n",
              "      <td>0.326607</td>\n",
              "      <td>Iris-setosa</td>\n",
              "      <td>red</td>\n",
              "    </tr>\n",
              "    <tr>\n",
              "      <th>1</th>\n",
              "      <td>-2.715391</td>\n",
              "      <td>-0.169557</td>\n",
              "      <td>Iris-setosa</td>\n",
              "      <td>red</td>\n",
              "    </tr>\n",
              "    <tr>\n",
              "      <th>2</th>\n",
              "      <td>-2.889820</td>\n",
              "      <td>-0.137346</td>\n",
              "      <td>Iris-setosa</td>\n",
              "      <td>red</td>\n",
              "    </tr>\n",
              "    <tr>\n",
              "      <th>3</th>\n",
              "      <td>-2.746437</td>\n",
              "      <td>-0.311124</td>\n",
              "      <td>Iris-setosa</td>\n",
              "      <td>red</td>\n",
              "    </tr>\n",
              "    <tr>\n",
              "      <th>4</th>\n",
              "      <td>-2.728593</td>\n",
              "      <td>0.333925</td>\n",
              "      <td>Iris-setosa</td>\n",
              "      <td>red</td>\n",
              "    </tr>\n",
              "  </tbody>\n",
              "</table>\n",
              "</div>"
            ],
            "text/plain": [
              "      PCA 1     PCA 2       target color\n",
              "0 -2.684207  0.326607  Iris-setosa   red\n",
              "1 -2.715391 -0.169557  Iris-setosa   red\n",
              "2 -2.889820 -0.137346  Iris-setosa   red\n",
              "3 -2.746437 -0.311124  Iris-setosa   red\n",
              "4 -2.728593  0.333925  Iris-setosa   red"
            ]
          },
          "metadata": {
            "tags": []
          },
          "execution_count": 57
        }
      ]
    },
    {
      "metadata": {
        "id": "E_RggNNobjEY",
        "colab_type": "code",
        "colab": {
          "base_uri": "https://localhost:8080/",
          "height": 376
        },
        "outputId": "75708105-9c19-4826-8cc2-e9c8f304f5ed"
      },
      "cell_type": "code",
      "source": [
        "plt.scatter(pcadf['PCA 1'], pcadf['PCA 2'], c=pcadf.color)\n",
        "plt.title('Visualizacion con 2 componentes')\n",
        "plt.xlabel('PCA 1')\n",
        "plt.ylabel('PCA 2')\n",
        "plt.show()"
      ],
      "execution_count": 58,
      "outputs": [
        {
          "output_type": "display_data",
          "data": {
            "image/png": "[encoded data removed]",
            "text/plain": [
              "<matplotlib.figure.Figure at 0x7ffafd59a390>"
            ]
          },
          "metadata": {
            "tags": []
          }
        }
      ]
    },
    {
      "metadata": {
        "id": "8lXL6uEC0I42",
        "colab_type": "text"
      },
      "cell_type": "markdown",
      "source": [
        "## K-Means"
      ]
    },
    {
      "metadata": {
        "id": "1ESf6V-R0HVz",
        "colab_type": "code",
        "colab": {
          "base_uri": "https://localhost:8080/",
          "height": 68
        },
        "outputId": "0da5b437-b966-453f-9c0d-98311c9f1107"
      },
      "cell_type": "code",
      "source": [
        "kmeans = KMeans(n_clusters= 4, init='k-means++', random_state=0)\n",
        "y_kmeans=kmeans.fit(x)\n",
        "y_kmeans"
      ],
      "execution_count": 59,
      "outputs": [
        {
          "output_type": "execute_result",
          "data": {
            "text/plain": [
              "KMeans(algorithm='auto', copy_x=True, init='k-means++', max_iter=300,\n",
              "    n_clusters=4, n_init=10, n_jobs=1, precompute_distances='auto',\n",
              "    random_state=0, tol=0.0001, verbose=0)"
            ]
          },
          "metadata": {
            "tags": []
          },
          "execution_count": 59
        }
      ]
    },
    {
      "metadata": {
        "id": "xJqI_HmJ0H5g",
        "colab_type": "code",
        "colab": {
          "base_uri": "https://localhost:8080/",
          "height": 85
        },
        "outputId": "d37b0155-2206-4652-f150-e6ebdb192f29"
      },
      "cell_type": "code",
      "source": [
        "#Centroides\n",
        "y_kmeans.cluster_centers_"
      ],
      "execution_count": 60,
      "outputs": [
        {
          "output_type": "execute_result",
          "data": {
            "text/plain": [
              "array([[5.53214286, 2.63571429, 3.96071429, 1.22857143],\n",
              "       [5.006     , 3.418     , 1.464     , 0.244     ],\n",
              "       [6.9125    , 3.1       , 5.846875  , 2.13125   ],\n",
              "       [6.2525    , 2.855     , 4.815     , 1.625     ]])"
            ]
          },
          "metadata": {
            "tags": []
          },
          "execution_count": 60
        }
      ]
    },
    {
      "metadata": {
        "id": "95W8OQhqgmv5",
        "colab_type": "code",
        "colab": {
          "base_uri": "https://localhost:8080/",
          "height": 34
        },
        "outputId": "8e0022bc-754d-4358-a639-2ae9e651855a"
      },
      "cell_type": "code",
      "source": [
        "#Inertia para el método del codo\n",
        "y_kmeans.inertia_"
      ],
      "execution_count": 61,
      "outputs": [
        {
          "output_type": "execute_result",
          "data": {
            "text/plain": [
              "57.31787321428571"
            ]
          },
          "metadata": {
            "tags": []
          },
          "execution_count": 61
        }
      ]
    },
    {
      "metadata": {
        "id": "VS8YYVIzf_qc",
        "colab_type": "text"
      },
      "cell_type": "markdown",
      "source": [
        "###  Visualización Centroides"
      ]
    },
    {
      "metadata": {
        "id": "fQJGMWDm8Wlo",
        "colab_type": "code",
        "colab": {}
      },
      "cell_type": "code",
      "source": [
        "Attributes =list(df.columns.values[1:5])\n",
        "AttNo = len(Attributes)\n",
        "values = df.iloc[1,1:5].tolist()\n",
        "values += values[:1]\n",
        "angles = [n / float(AttNo) * 2 * pi for n in range(AttNo)]\n",
        "angles += angles [:1]"
      ],
      "execution_count": 0,
      "outputs": []
    },
    {
      "metadata": {
        "id": "4YhugycR8Wuw",
        "colab_type": "code",
        "colab": {
          "base_uri": "https://localhost:8080/",
          "height": 379
        },
        "outputId": "b1fa1dbe-9237-4d02-84ff-c172fade8ad5"
      },
      "cell_type": "code",
      "source": [
        "ax = plt.subplot(111, polar=True)\n",
        "\n",
        "#Agregar las labels\n",
        "plt.xticks(angles[:-1],Attributes)\n",
        "\n",
        "#Plottear el radar\n",
        "ax.plot(angles,values)\n",
        "\n",
        "#Relleno de áreas calculadas\n",
        "ax.fill(angles, values, 'teal', alpha=0.1)\n",
        "ax.set_title(\"Cluster 1\")\n",
        "plt.show()"
      ],
      "execution_count": 63,
      "outputs": [
        {
          "output_type": "display_data",
          "data": {
            "image/png": "[encoded data removed]",
            "text/plain": [
              "<matplotlib.figure.Figure at 0x7ffafd5bd490>"
            ]
          },
          "metadata": {
            "tags": []
          }
        }
      ]
    },
    {
      "metadata": {
        "id": "JHMvxAr-06WY",
        "colab_type": "text"
      },
      "cell_type": "markdown",
      "source": [
        "## Hierarchical Clustering"
      ]
    },
    {
      "metadata": {
        "id": "yTpmodSD0H9f",
        "colab_type": "code",
        "colab": {
          "base_uri": "https://localhost:8080/",
          "height": 678
        },
        "outputId": "b4cb52fe-8750-4105-fd23-6e38a9392891"
      },
      "cell_type": "code",
      "source": [
        "colors=list(pcadf.color)\n",
        "Z = linkage(x, 'ward')\n",
        "plt.figure(figsize=(50, 10))\n",
        "plt.title('Dendrograma Clustering Jerarquico')\n",
        "plt.xlabel('Observaciones')\n",
        "plt.ylabel('Distancia')\n",
        "\n",
        "\n",
        "dendrogram(Z,\n",
        "    labels=list(df.Species),\n",
        "    leaf_rotation=90.,\n",
        "    leaf_font_size=8.,\n",
        "    #orientation='right',\n",
        "    color_threshold=10,\n",
        ")\n",
        "plt.show()"
      ],
      "execution_count": 64,
      "outputs": [
        {
          "output_type": "display_data",
          "data": {
            "image/png": "[encoded data removed]",
            "text/plain": [
              "<matplotlib.figure.Figure at 0x7ffafd5c4e10>"
            ]
          },
          "metadata": {
            "tags": []
          }
        }
      ]
    },
    {
      "metadata": {
        "id": "Y--TrIWGUjca",
        "colab_type": "text"
      },
      "cell_type": "markdown",
      "source": [
        "# Investigación (2 ptos)\n",
        "\n",
        "Elija 3 de 4 preguntas, si responde todas se considerarán las tres mejores.\n",
        "\n",
        "\n",
        "\n",
        "1. Explique un caso en que pueda fallar K-Means y mencione una forma de solucionarlo.\n",
        "2. ¿Es PCA un método de clustering? Explique.\n",
        "3. Investigue las siguientes métricas: *purity, silhouette score.* Describa ventajas y desventajas.\n",
        "4. ¿En qué consiste el algoritmo Gaussian Mixture Models (GMM)? Comente su relación con K-Means.\n",
        "\n"
      ]
    },
    {
      "metadata": {
        "id": "wGlApIV7F9wJ",
        "colab_type": "text"
      },
      "cell_type": "markdown",
      "source": [
        "# Laboratorio (4 ptos)\n",
        "\n",
        "\n",
        "Considere el problema que enfrenta una empresa del retail que desea segmentar a sus clientes con el fin de entender mejor su comportamiento y así poder realizar ofertas específicas para cada grupo. \n",
        "\n",
        "Para lo anterior cuenta con los siguientes datos:\n",
        "\n",
        "\n",
        "1.   Edad, género, educación, lugar dónde vive, teléfono, etc,\n",
        "2.   Si es miembro o no del club de puntos, gastos realizados en un año, y una métrica otorgada (spending score) por el departamento de marketing que indica qué tan buenos gastadores son, donde 100 corresponde a lo más alto y 0 a lo más bajo. \n",
        "\n",
        "**Notas:**\n",
        "\n",
        "1.   No posee registro de los gastos de quienes no pertenecen al club de puntos, sin embargo según lo indicado por el departamento de marketing es una variable muy importante.\n",
        "2.   A priori debería existir una correlación entre en el spending score y los gastos de una persona, aunque no necesariamente es así, por lo que se recomienda estudiar esta relación.\n",
        "\n",
        "\n",
        "\n",
        "\n",
        "\n",
        "\n",
        "\n",
        "\n",
        "\n",
        "\n",
        "\n",
        "\n",
        "\n"
      ]
    },
    {
      "metadata": {
        "id": "fKGkqDI9q3IR",
        "colab_type": "text"
      },
      "cell_type": "markdown",
      "source": [
        "**Tareas:**\n",
        "\n",
        "\n",
        "1.   Realice un análisis exploratorio de los datos (cantidad de registros, medias, medianas, missing values, etc) y muestre al menos 2 gráficos de variables que considere relevantes para el análisis. (0.5 pto)\n",
        "2.   Cree una base de datos consistente (limpieza de NAs, transformaciones, imputaciones) y deje claramente expresadas las  * features* que utilizará para el clustering (al menos 3). Justifique las variables elegidas/creadas apoyándose en visualizaciones del punto 1.  (0.5 pto)\n",
        "3.    Utilice K-Means y con la ayuda del método del codo y la silueta encuentre el número \"adecuado\" de clusters, comente si lo encontrado por los métodos hace sentido y justifique su elección. Comente además respecto al tamaño de cada cluster y los centroides. (1.5 pto)\n",
        "\n",
        "(BONUS - 1 pto ) Utilice PCA y gráfico de radar con el fin de visualizar los clusters y sus centroides. Interprete.\n",
        "\n",
        "4. Utilice Clustering Jerárquico con al menos 2 linkage distintos al mostrado en clases y visualice sus respectivos dendogramas. Compare la cantidad de clusters encontrados con K-Means. ¿Se encuentra la misma cantidad? En caso de existir diferencias explique por qué cree que se dan. (1.5 ptos)\n"
      ]
    },
    {
      "metadata": {
        "id": "3FuyG3GYWQ0P",
        "colab_type": "text"
      },
      "cell_type": "markdown",
      "source": [
        "# Importar Librerías"
      ]
    },
    {
      "metadata": {
        "id": "qh-lhh6jX7T0",
        "colab_type": "code",
        "colab": {}
      },
      "cell_type": "code",
      "source": [
        "import numpy as np\n",
        "import matplotlib.pyplot as plt\n",
        "import pandas as pd\n",
        "from sklearn.cluster import KMeans\n",
        "import os"
      ],
      "execution_count": 0,
      "outputs": []
    },
    {
      "metadata": {
        "id": "LpbH73CfbNzs",
        "colab_type": "text"
      },
      "cell_type": "markdown",
      "source": [
        "## Descargar datos y leerlos en un Data Frame"
      ]
    },
    {
      "metadata": {
        "id": "P0kghe4AnduW",
        "colab_type": "code",
        "colab": {
          "base_uri": "https://localhost:8080/",
          "height": 224
        },
        "outputId": "113cec21-127c-40f1-ade6-fe47a3ab13b4"
      },
      "cell_type": "code",
      "source": [
        "#Descarga de datos\n",
        "!wget https://raw.githubusercontent.com/Camiloez/Labs-Data-Mining/master/data.csv\n",
        "#Lectura en dataframe\n",
        "df=pd.read_csv('data.csv')"
      ],
      "execution_count": 66,
      "outputs": [
        {
          "output_type": "stream",
          "text": [
            "--2018-10-30 00:35:34--  https://raw.githubusercontent.com/Camiloez/Labs-Data-Mining/master/data.csv\n",
            "Resolving raw.githubusercontent.com (raw.githubusercontent.com)... 151.101.0.133, 151.101.64.133, 151.101.128.133, ...\n",
            "Connecting to raw.githubusercontent.com (raw.githubusercontent.com)|151.101.0.133|:443... connected.\n",
            "HTTP request sent, awaiting response... 200 OK\n",
            "Length: 10223 (10.0K) [text/plain]\n",
            "Saving to: ‘data.csv’\n",
            "\n",
            "\rdata.csv              0%[                    ]       0  --.-KB/s               \rdata.csv            100%[===================>]   9.98K  --.-KB/s    in 0s      \n",
            "\n",
            "2018-10-30 00:35:34 (66.5 MB/s) - ‘data.csv’ saved [10223/10223]\n",
            "\n"
          ],
          "name": "stdout"
        }
      ]
    },
    {
      "metadata": {
        "id": "A3G59niAd5Js",
        "colab_type": "code",
        "colab": {
          "base_uri": "https://localhost:8080/",
          "height": 323
        },
        "outputId": "bb6d2310-ecf8-4c74-8862-d651374eb3e7"
      },
      "cell_type": "code",
      "source": [
        "df.head(5)"
      ],
      "execution_count": 67,
      "outputs": [
        {
          "output_type": "execute_result",
          "data": {
            "text/html": [
              "<div>\n",
              "<style scoped>\n",
              "    .dataframe tbody tr th:only-of-type {\n",
              "        vertical-align: middle;\n",
              "    }\n",
              "\n",
              "    .dataframe tbody tr th {\n",
              "        vertical-align: top;\n",
              "    }\n",
              "\n",
              "    .dataframe thead th {\n",
              "        text-align: right;\n",
              "    }\n",
              "</style>\n",
              "<table border=\"1\" class=\"dataframe\">\n",
              "  <thead>\n",
              "    <tr style=\"text-align: right;\">\n",
              "      <th></th>\n",
              "      <th>CustomerID</th>\n",
              "      <th>State</th>\n",
              "      <th>Area Code</th>\n",
              "      <th>Address</th>\n",
              "      <th>Phone</th>\n",
              "      <th>Age</th>\n",
              "      <th>Genre</th>\n",
              "      <th>Education</th>\n",
              "      <th>Annual Income (k$)</th>\n",
              "      <th>Expenses</th>\n",
              "      <th>Spending Score (1-100)</th>\n",
              "      <th>Club Member</th>\n",
              "    </tr>\n",
              "  </thead>\n",
              "  <tbody>\n",
              "    <tr>\n",
              "      <th>0</th>\n",
              "      <td>1</td>\n",
              "      <td>KS</td>\n",
              "      <td>415</td>\n",
              "      <td>2.0</td>\n",
              "      <td>382-4657</td>\n",
              "      <td>19</td>\n",
              "      <td>Male</td>\n",
              "      <td>2.0</td>\n",
              "      <td>15</td>\n",
              "      <td>-</td>\n",
              "      <td>39</td>\n",
              "      <td>no</td>\n",
              "    </tr>\n",
              "    <tr>\n",
              "      <th>1</th>\n",
              "      <td>2</td>\n",
              "      <td>OH</td>\n",
              "      <td>415</td>\n",
              "      <td>17.0</td>\n",
              "      <td>371-7191</td>\n",
              "      <td>21</td>\n",
              "      <td>Male</td>\n",
              "      <td>3.0</td>\n",
              "      <td>15</td>\n",
              "      <td>-</td>\n",
              "      <td>81</td>\n",
              "      <td>no</td>\n",
              "    </tr>\n",
              "    <tr>\n",
              "      <th>2</th>\n",
              "      <td>3</td>\n",
              "      <td>NJ</td>\n",
              "      <td>415</td>\n",
              "      <td>12.0</td>\n",
              "      <td>358-1921</td>\n",
              "      <td>20</td>\n",
              "      <td>Female</td>\n",
              "      <td>1.0</td>\n",
              "      <td>16</td>\n",
              "      <td>-</td>\n",
              "      <td>6</td>\n",
              "      <td>no</td>\n",
              "    </tr>\n",
              "    <tr>\n",
              "      <th>3</th>\n",
              "      <td>4</td>\n",
              "      <td>OH</td>\n",
              "      <td>408</td>\n",
              "      <td>3.0</td>\n",
              "      <td>375-9999</td>\n",
              "      <td>23</td>\n",
              "      <td>Female</td>\n",
              "      <td>1.0</td>\n",
              "      <td>16</td>\n",
              "      <td>299.4</td>\n",
              "      <td>77</td>\n",
              "      <td>yes</td>\n",
              "    </tr>\n",
              "    <tr>\n",
              "      <th>4</th>\n",
              "      <td>5</td>\n",
              "      <td>OK</td>\n",
              "      <td>415</td>\n",
              "      <td>2.0</td>\n",
              "      <td>330-6626</td>\n",
              "      <td>31</td>\n",
              "      <td>Female</td>\n",
              "      <td>1.0</td>\n",
              "      <td>17</td>\n",
              "      <td>166.7</td>\n",
              "      <td>40</td>\n",
              "      <td>yes</td>\n",
              "    </tr>\n",
              "  </tbody>\n",
              "</table>\n",
              "</div>"
            ],
            "text/plain": [
              "   CustomerID State  Area Code  Address     Phone  Age   Genre  Education  \\\n",
              "0           1    KS        415      2.0  382-4657   19    Male        2.0   \n",
              "1           2    OH        415     17.0  371-7191   21    Male        3.0   \n",
              "2           3    NJ        415     12.0  358-1921   20  Female        1.0   \n",
              "3           4    OH        408      3.0  375-9999   23  Female        1.0   \n",
              "4           5    OK        415      2.0  330-6626   31  Female        1.0   \n",
              "\n",
              "   Annual Income (k$) Expenses  Spending Score (1-100) Club Member  \n",
              "0                  15        -                      39          no  \n",
              "1                  15        -                      81          no  \n",
              "2                  16        -                       6          no  \n",
              "3                  16    299.4                      77         yes  \n",
              "4                  17    166.7                      40         yes  "
            ]
          },
          "metadata": {
            "tags": []
          },
          "execution_count": 67
        }
      ]
    },
    {
      "metadata": {
        "id": "gSVaH1k_bjG-",
        "colab_type": "code",
        "colab": {
          "base_uri": "https://localhost:8080/",
          "height": 297
        },
        "outputId": "226a4ed8-e8e6-4dcd-b28f-1b7afe3ff766"
      },
      "cell_type": "code",
      "source": [
        "df.describe()"
      ],
      "execution_count": 68,
      "outputs": [
        {
          "output_type": "execute_result",
          "data": {
            "text/html": [
              "<div>\n",
              "<style scoped>\n",
              "    .dataframe tbody tr th:only-of-type {\n",
              "        vertical-align: middle;\n",
              "    }\n",
              "\n",
              "    .dataframe tbody tr th {\n",
              "        vertical-align: top;\n",
              "    }\n",
              "\n",
              "    .dataframe thead th {\n",
              "        text-align: right;\n",
              "    }\n",
              "</style>\n",
              "<table border=\"1\" class=\"dataframe\">\n",
              "  <thead>\n",
              "    <tr style=\"text-align: right;\">\n",
              "      <th></th>\n",
              "      <th>CustomerID</th>\n",
              "      <th>Area Code</th>\n",
              "      <th>Address</th>\n",
              "      <th>Age</th>\n",
              "      <th>Education</th>\n",
              "      <th>Annual Income (k$)</th>\n",
              "      <th>Spending Score (1-100)</th>\n",
              "    </tr>\n",
              "  </thead>\n",
              "  <tbody>\n",
              "    <tr>\n",
              "      <th>count</th>\n",
              "      <td>200.000000</td>\n",
              "      <td>200.000000</td>\n",
              "      <td>199.000000</td>\n",
              "      <td>200.000000</td>\n",
              "      <td>121.000000</td>\n",
              "      <td>200.000000</td>\n",
              "      <td>200.000000</td>\n",
              "    </tr>\n",
              "    <tr>\n",
              "      <th>mean</th>\n",
              "      <td>100.500000</td>\n",
              "      <td>432.940000</td>\n",
              "      <td>6.356784</td>\n",
              "      <td>38.850000</td>\n",
              "      <td>1.727273</td>\n",
              "      <td>60.560000</td>\n",
              "      <td>50.200000</td>\n",
              "    </tr>\n",
              "    <tr>\n",
              "      <th>std</th>\n",
              "      <td>57.879185</td>\n",
              "      <td>40.548084</td>\n",
              "      <td>5.808244</td>\n",
              "      <td>13.969007</td>\n",
              "      <td>0.605530</td>\n",
              "      <td>26.264721</td>\n",
              "      <td>25.823522</td>\n",
              "    </tr>\n",
              "    <tr>\n",
              "      <th>min</th>\n",
              "      <td>1.000000</td>\n",
              "      <td>408.000000</td>\n",
              "      <td>0.000000</td>\n",
              "      <td>18.000000</td>\n",
              "      <td>1.000000</td>\n",
              "      <td>15.000000</td>\n",
              "      <td>1.000000</td>\n",
              "    </tr>\n",
              "    <tr>\n",
              "      <th>25%</th>\n",
              "      <td>50.750000</td>\n",
              "      <td>408.000000</td>\n",
              "      <td>2.000000</td>\n",
              "      <td>28.750000</td>\n",
              "      <td>1.000000</td>\n",
              "      <td>41.500000</td>\n",
              "      <td>34.750000</td>\n",
              "    </tr>\n",
              "    <tr>\n",
              "      <th>50%</th>\n",
              "      <td>100.500000</td>\n",
              "      <td>415.000000</td>\n",
              "      <td>5.000000</td>\n",
              "      <td>36.000000</td>\n",
              "      <td>2.000000</td>\n",
              "      <td>61.500000</td>\n",
              "      <td>50.000000</td>\n",
              "    </tr>\n",
              "    <tr>\n",
              "      <th>75%</th>\n",
              "      <td>150.250000</td>\n",
              "      <td>415.000000</td>\n",
              "      <td>9.000000</td>\n",
              "      <td>49.000000</td>\n",
              "      <td>2.000000</td>\n",
              "      <td>78.000000</td>\n",
              "      <td>73.000000</td>\n",
              "    </tr>\n",
              "    <tr>\n",
              "      <th>max</th>\n",
              "      <td>200.000000</td>\n",
              "      <td>510.000000</td>\n",
              "      <td>26.000000</td>\n",
              "      <td>70.000000</td>\n",
              "      <td>3.000000</td>\n",
              "      <td>137.000000</td>\n",
              "      <td>99.000000</td>\n",
              "    </tr>\n",
              "  </tbody>\n",
              "</table>\n",
              "</div>"
            ],
            "text/plain": [
              "       CustomerID   Area Code     Address         Age   Education  \\\n",
              "count  200.000000  200.000000  199.000000  200.000000  121.000000   \n",
              "mean   100.500000  432.940000    6.356784   38.850000    1.727273   \n",
              "std     57.879185   40.548084    5.808244   13.969007    0.605530   \n",
              "min      1.000000  408.000000    0.000000   18.000000    1.000000   \n",
              "25%     50.750000  408.000000    2.000000   28.750000    1.000000   \n",
              "50%    100.500000  415.000000    5.000000   36.000000    2.000000   \n",
              "75%    150.250000  415.000000    9.000000   49.000000    2.000000   \n",
              "max    200.000000  510.000000   26.000000   70.000000    3.000000   \n",
              "\n",
              "       Annual Income (k$)  Spending Score (1-100)  \n",
              "count          200.000000              200.000000  \n",
              "mean            60.560000               50.200000  \n",
              "std             26.264721               25.823522  \n",
              "min             15.000000                1.000000  \n",
              "25%             41.500000               34.750000  \n",
              "50%             61.500000               50.000000  \n",
              "75%             78.000000               73.000000  \n",
              "max            137.000000               99.000000  "
            ]
          },
          "metadata": {
            "tags": []
          },
          "execution_count": 68
        }
      ]
    },
    {
      "metadata": {
        "id": "n54-R96xYAQ4",
        "colab_type": "code",
        "colab": {}
      },
      "cell_type": "code",
      "source": [
        ""
      ],
      "execution_count": 0,
      "outputs": []
    },
    {
      "metadata": {
        "id": "Hm9PHcjzRnIQ",
        "colab_type": "code",
        "colab": {}
      },
      "cell_type": "code",
      "source": [
        ""
      ],
      "execution_count": 0,
      "outputs": []
    },
    {
      "metadata": {
        "id": "42fj7OqTRnK9",
        "colab_type": "code",
        "colab": {}
      },
      "cell_type": "code",
      "source": [
        ""
      ],
      "execution_count": 0,
      "outputs": []
    },
    {
      "metadata": {
        "id": "zQb1w51DRnPO",
        "colab_type": "code",
        "colab": {}
      },
      "cell_type": "code",
      "source": [
        ""
      ],
      "execution_count": 0,
      "outputs": []
    },
    {
      "metadata": {
        "id": "zi7YDpwjX7vQ",
        "colab_type": "code",
        "colab": {}
      },
      "cell_type": "code",
      "source": [
        ""
      ],
      "execution_count": 0,
      "outputs": []
    },
    {
      "metadata": {
        "id": "hIY_pE5IGPmB",
        "colab_type": "code",
        "colab": {}
      },
      "cell_type": "code",
      "source": [
        ""
      ],
      "execution_count": 0,
      "outputs": []
    },
    {
      "metadata": {
        "id": "KN7ODxOVGPuI",
        "colab_type": "code",
        "colab": {}
      },
      "cell_type": "code",
      "source": [
        ""
      ],
      "execution_count": 0,
      "outputs": []
    }
  ]
}